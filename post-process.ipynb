{
 "cells": [
  {
   "cell_type": "markdown",
   "metadata": {},
   "source": [
    "# Computing ab inito U value using the linear response method with CASTEP\n",
    "\n",
    "## How to run\n",
    "\n",
    "1. Have CASTEP compiled and `castep.mpi` in the `$PATH`\n",
    "2. `base script.sh`\n",
    "3. Run this notebook or `python post-process.py`\n",
    "\n",
    "## How it works\n",
    "\n",
    "Adjust the `HUBBARD_ALPHA` value and record the initial and final occupations of the Mn d levels when continuing from the unperturbed run (`base_calc`).\n",
    "The value of U is extracted using the gradient of the two response curves.\n",
    "\n",
    "The example in  http://hjkgrp.mit.edu/content/calculating-hubbard-u is reused here and the same methodology is followed.  \n",
    "The more `self-consistent` U can be computed by repeating the procedure with different input value for the U.\n",
    "\n",
    "\n",
    "Reference: \n",
    ">  Cococcioni, M.; de Gironcoli, S. Linear Response Approach to the Calculation of the Effective Interaction Parameters in the LDA+U Method. Phys. Rev. B 2005, 71 (3), 035105. https://doi.org/10.1103/PhysRevB.71.035105.\n",
    "\n",
    "DISCLAIMER: Use at your own risk. Please raise an issue if you think the method here is not correct due to implementation details.\n"
   ]
  },
  {
   "cell_type": "markdown",
   "metadata": {},
   "source": [
    "## Post-processing the results"
   ]
  },
  {
   "cell_type": "code",
   "execution_count": 1,
   "metadata": {},
   "outputs": [],
   "source": [
    "from pathlib import Path\n",
    "import numpy as np\n",
    "import matplotlib.pyplot as plt"
   ]
  },
  {
   "cell_type": "code",
   "execution_count": 2,
   "metadata": {},
   "outputs": [],
   "source": [
    "def read_occ(lines):\n",
    "    \"\"\"\n",
    "    Read occupations from a continuation CASTEP calculation\n",
    "    Arguments:\n",
    "        lines: a list of lines to be computed\n",
    "        \n",
    "    Returns:\n",
    "        occupation for the non-selfconsistn and self-conssistent occupation number\n",
    "    \"\"\"\n",
    "    in_block = False\n",
    "    in_cell = False\n",
    "    tot_occs = []\n",
    "    for i, line in enumerate(lines):\n",
    "        if \"Hubbard U occupation numbers\" in line:\n",
    "            in_block = True\n",
    "            continue\n",
    "        if line.startswith(\"====\") and in_block and not in_cell:\n",
    "            in_cell = True\n",
    "            continue\n",
    "        if in_cell and line.startswith(\"====\"):\n",
    "            in_cell = False\n",
    "            in_block = False\n",
    "            continue\n",
    "        if in_cell:\n",
    "            tokens = line.split()\n",
    "            tot_occ = sum(map(float, tokens[-5:]))\n",
    "            tot_occs.append(tot_occ)\n",
    "    return tot_occs[2] + tot_occs[3], tot_occs[-2] + tot_occs[-1]#, tot_occs\n"
   ]
  },
  {
   "cell_type": "code",
   "execution_count": 3,
   "metadata": {},
   "outputs": [],
   "source": [
    "res = []\n",
    "for path in Path().glob(\"alpha*/*.castep\"):\n",
    "    tmp = read_occ(path.read_text().split('\\n'))\n",
    "    sc = tmp[1]\n",
    "    nsc = tmp[0]\n",
    "    alpha = float(str(path.parent).split('_')[1])\n",
    "    res.append([alpha, nsc, sc])\n",
    "res.sort(key=lambda x: x[0])\n",
    "\n",
    "res = np.asarray(res)"
   ]
  },
  {
   "cell_type": "markdown",
   "metadata": {},
   "source": [
    "Fit and obtain the value of U"
   ]
  },
  {
   "cell_type": "code",
   "execution_count": 10,
   "metadata": {},
   "outputs": [
    {
     "name": "stdout",
     "output_type": "stream",
     "text": [
      "Calculatd U value: 3.31 eV\n"
     ]
    },
    {
     "data": {
      "image/png": "[encoded data removed]",
      "text/plain": [
       "<Figure size 432x288 with 1 Axes>"
      ]
     },
     "metadata": {
      "needs_background": "light"
     },
     "output_type": "display_data"
    }
   ],
   "source": [
    "nsc_fit = np.poly1d(np.polyfit(res[:, 0], res[:, 1], 1))\n",
    "sc_fit = np.poly1d(np.polyfit(res[:, 0], res[:, 2], 1))\n",
    "\n",
    "alpha, nsc, sc = res.T\n",
    "plt.plot(alpha, nsc, 'xk', label='NSC')\n",
    "plt.plot(alpha, nsc_fit(alpha), '-k')\n",
    "plt.plot(alpha, sc, 'xr', label='SC')\n",
    "plt.plot(alpha, sc_fit(alpha), '-r')\n",
    "plt.legend()\n",
    "plt.xlabel(\"alpha (eV)\")\n",
    "plt.ylabel(\"Occupation\")\n",
    "\n",
    "U = 1/nsc_fit.coeffs[0] - 1/sc_fit.coeffs[0]\n",
    "print(\"Calculatd U value: {:.2f} eV\".format(U))\n",
    "plt.annotate(\"U={:.2f} eV\".format(U), (-0.1, 5.70))\n",
    "plt.savefig(\"response.png\")\n"
   ]
  },
  {
   "cell_type": "markdown",
   "metadata": {},
   "source": [
    "## Comments\n",
    "Accuracy of the U is limited by the occupation being only accurate to 2 decimal places.  \n",
    "The source code of CASTEP may be modified to enable more output of the occupation numbers with more decimal places.  \n",
    "Alternatively, one may use a larger scan range for alpha."
   ]
  }
 ],
 "metadata": {
  "kernelspec": {
   "display_name": "Python [conda env:py3w]",
   "language": "python",
   "name": "conda-env-py3w-py"
  },
  "language_info": {
   "codemirror_mode": {
    "name": "ipython",
    "version": 3
   },
   "file_extension": ".py",
   "mimetype": "text/x-python",
   "name": "python",
   "nbconvert_exporter": "python",
   "pygments_lexer": "ipython3",
   "version": "3.8.2"
  }
 },
 "nbformat": 4,
 "nbformat_minor": 4
}
